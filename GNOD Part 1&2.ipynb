{
 "cells": [
  {
   "cell_type": "code",
   "execution_count": 1,
   "id": "537d15be",
   "metadata": {},
   "outputs": [],
   "source": [
    "from bs4 import BeautifulSoup\n",
    "from random import randint, choice\n",
    "import requests\n",
    "import pandas as pd"
   ]
  },
  {
   "cell_type": "code",
   "execution_count": 2,
   "id": "2342e428",
   "metadata": {},
   "outputs": [
    {
     "data": {
      "text/plain": [
       "200"
      ]
     },
     "execution_count": 2,
     "metadata": {},
     "output_type": "execute_result"
    }
   ],
   "source": [
    "url_billboard = 'https://www.billboard.com/charts/hot-100/'\n",
    "response = requests.get(url_billboard)\n",
    "response.status_code"
   ]
  },
  {
   "cell_type": "code",
   "execution_count": 3,
   "id": "4164fd71",
   "metadata": {},
   "outputs": [],
   "source": [
    "soup = BeautifulSoup(response.text, 'html.parser')\n",
    "result = soup.find_all('div', class_='o-chart-results-list-row-container')\n"
   ]
  },
  {
   "cell_type": "code",
   "execution_count": 4,
   "id": "ffcb29a6",
   "metadata": {},
   "outputs": [
    {
     "data": {
      "text/plain": [
       "'1'"
      ]
     },
     "metadata": {},
     "output_type": "display_data"
    }
   ],
   "source": [
    "display(result[0].find_all('span')[5].text.strip())\n"
   ]
  },
  {
   "cell_type": "code",
   "execution_count": 5,
   "id": "5d0f74b2",
   "metadata": {
    "scrolled": true
   },
   "outputs": [
    {
     "data": {
      "text/plain": [
       "'Jack Harlow'"
      ]
     },
     "execution_count": 5,
     "metadata": {},
     "output_type": "execute_result"
    }
   ],
   "source": [
    "result[0].h3.find_next('span').get_text().strip()\n"
   ]
  },
  {
   "cell_type": "code",
   "execution_count": 6,
   "id": "3d218ed5",
   "metadata": {},
   "outputs": [],
   "source": [
    "songs = []\n",
    "artists=[]\n",
    "lastweeks = []\n",
    "peaks=[]\n",
    "durations=[]\n",
    "for res in result:\n",
    "    song = res.h3.get_text().strip()\n",
    "    artist = res.h3.find_next('span').get_text().strip()\n",
    "    lastweek = res.find_all('span')[5].text.strip()\n",
    "    peak = res.find_all('span')[6].text.strip()\n",
    "    duration = res.find_all('span')[7].text.strip()\n",
    "    \n",
    "    songs.append(song)\n",
    "    artists.append(artist)\n",
    "    lastweeks.append(lastweek)\n",
    "    peaks.append(peak)\n",
    "    durations.append(duration)"
   ]
  },
  {
   "cell_type": "code",
   "execution_count": 7,
   "id": "e7e48997",
   "metadata": {},
   "outputs": [],
   "source": [
    "hot100 = pd.DataFrame({'song': songs, 'artist': artists, \n",
    "                       'Last Week Ranking': lastweeks, 'Peak Ranking': peaks,\n",
    "                        'Weeks on Chart': durations})"
   ]
  },
  {
   "cell_type": "code",
   "execution_count": 8,
   "id": "e725a03e",
   "metadata": {},
   "outputs": [
    {
     "data": {
      "text/html": [
       "<div>\n",
       "<style scoped>\n",
       "    .dataframe tbody tr th:only-of-type {\n",
       "        vertical-align: middle;\n",
       "    }\n",
       "\n",
       "    .dataframe tbody tr th {\n",
       "        vertical-align: top;\n",
       "    }\n",
       "\n",
       "    .dataframe thead th {\n",
       "        text-align: right;\n",
       "    }\n",
       "</style>\n",
       "<table border=\"1\" class=\"dataframe\">\n",
       "  <thead>\n",
       "    <tr style=\"text-align: right;\">\n",
       "      <th></th>\n",
       "      <th>song</th>\n",
       "      <th>artist</th>\n",
       "      <th>Last Week Ranking</th>\n",
       "      <th>Peak Ranking</th>\n",
       "      <th>Weeks on Chart</th>\n",
       "    </tr>\n",
       "  </thead>\n",
       "  <tbody>\n",
       "    <tr>\n",
       "      <th>0</th>\n",
       "      <td>Lovin On Me</td>\n",
       "      <td>Jack Harlow</td>\n",
       "      <td>1</td>\n",
       "      <td>1</td>\n",
       "      <td>14</td>\n",
       "    </tr>\n",
       "    <tr>\n",
       "      <th>1</th>\n",
       "      <td>Texas Hold 'Em</td>\n",
       "      <td>Beyonce</td>\n",
       "      <td>2</td>\n",
       "      <td>1</td>\n",
       "      <td>-</td>\n",
       "    </tr>\n",
       "    <tr>\n",
       "      <th>2</th>\n",
       "      <td>Carnival</td>\n",
       "      <td>¥$: Kanye West &amp; Ty Dolla $ign</td>\n",
       "      <td>3</td>\n",
       "      <td>1</td>\n",
       "      <td>-</td>\n",
       "    </tr>\n",
       "    <tr>\n",
       "      <th>3</th>\n",
       "      <td>Beautiful Things</td>\n",
       "      <td>Benson Boone</td>\n",
       "      <td>3</td>\n",
       "      <td>3</td>\n",
       "      <td>4</td>\n",
       "    </tr>\n",
       "    <tr>\n",
       "      <th>4</th>\n",
       "      <td>Lose Control</td>\n",
       "      <td>Teddy Swims</td>\n",
       "      <td>2</td>\n",
       "      <td>2</td>\n",
       "      <td>27</td>\n",
       "    </tr>\n",
       "    <tr>\n",
       "      <th>...</th>\n",
       "      <td>...</td>\n",
       "      <td>...</td>\n",
       "      <td>...</td>\n",
       "      <td>...</td>\n",
       "      <td>...</td>\n",
       "    </tr>\n",
       "    <tr>\n",
       "      <th>95</th>\n",
       "      <td>Mmhmm</td>\n",
       "      <td>BigXthaPlug</td>\n",
       "      <td>83</td>\n",
       "      <td>65</td>\n",
       "      <td>8</td>\n",
       "    </tr>\n",
       "    <tr>\n",
       "      <th>96</th>\n",
       "      <td>Monaco</td>\n",
       "      <td>Bad Bunny</td>\n",
       "      <td>77</td>\n",
       "      <td>5</td>\n",
       "      <td>18</td>\n",
       "    </tr>\n",
       "    <tr>\n",
       "      <th>97</th>\n",
       "      <td>Prove It</td>\n",
       "      <td>21 Savage &amp; Summer Walker</td>\n",
       "      <td>75</td>\n",
       "      <td>43</td>\n",
       "      <td>5</td>\n",
       "    </tr>\n",
       "    <tr>\n",
       "      <th>98</th>\n",
       "      <td>Perro Negro</td>\n",
       "      <td>Bad Bunny &amp; Feid</td>\n",
       "      <td>82</td>\n",
       "      <td>20</td>\n",
       "      <td>15</td>\n",
       "    </tr>\n",
       "    <tr>\n",
       "      <th>99</th>\n",
       "      <td>Sunday Service</td>\n",
       "      <td>Latto</td>\n",
       "      <td>100</td>\n",
       "      <td>1</td>\n",
       "      <td>-</td>\n",
       "    </tr>\n",
       "  </tbody>\n",
       "</table>\n",
       "<p>100 rows × 5 columns</p>\n",
       "</div>"
      ],
      "text/plain": [
       "                song                          artist Last Week Ranking  \\\n",
       "0        Lovin On Me                     Jack Harlow                 1   \n",
       "1     Texas Hold 'Em                         Beyonce                 2   \n",
       "2           Carnival  ¥$: Kanye West & Ty Dolla $ign                 3   \n",
       "3   Beautiful Things                    Benson Boone                 3   \n",
       "4       Lose Control                     Teddy Swims                 2   \n",
       "..               ...                             ...               ...   \n",
       "95             Mmhmm                     BigXthaPlug                83   \n",
       "96            Monaco                       Bad Bunny                77   \n",
       "97          Prove It       21 Savage & Summer Walker                75   \n",
       "98       Perro Negro                Bad Bunny & Feid                82   \n",
       "99    Sunday Service                           Latto               100   \n",
       "\n",
       "   Peak Ranking Weeks on Chart  \n",
       "0             1             14  \n",
       "1             1              -  \n",
       "2             1              -  \n",
       "3             3              4  \n",
       "4             2             27  \n",
       "..          ...            ...  \n",
       "95           65              8  \n",
       "96            5             18  \n",
       "97           43              5  \n",
       "98           20             15  \n",
       "99            1              -  \n",
       "\n",
       "[100 rows x 5 columns]"
      ]
     },
     "execution_count": 8,
     "metadata": {},
     "output_type": "execute_result"
    }
   ],
   "source": [
    "hot100.to_csv('BillboardHot100.csv')\n",
    "hot100"
   ]
  },
  {
   "cell_type": "code",
   "execution_count": 9,
   "id": "3e054951",
   "metadata": {},
   "outputs": [
    {
     "data": {
      "text/plain": [
       "200"
      ]
     },
     "execution_count": 9,
     "metadata": {},
     "output_type": "execute_result"
    }
   ],
   "source": [
    "url_popvortex = 'http://www.popvortex.com/music/charts/top-100-songs.php'\n",
    "response = requests.get(url_popvortex)\n",
    "response.status_code"
   ]
  },
  {
   "cell_type": "code",
   "execution_count": 10,
   "id": "3dc7ca12",
   "metadata": {},
   "outputs": [],
   "source": [
    "soup = BeautifulSoup(response.text, 'html.parser')\n",
    "result = soup.find_all('div', class_=\"chart-content col-xs-12 col-sm-8\")\n",
    "#for res in result:\n",
    "#    print(res.prettify())"
   ]
  },
  {
   "cell_type": "code",
   "execution_count": 11,
   "id": "acb800a0",
   "metadata": {},
   "outputs": [],
   "source": [
    "songs=[]\n",
    "artists=[]\n",
    "genres=[]\n",
    "dates= []\n",
    "for res in result:\n",
    "    song = res.cite.text.strip()\n",
    "    artist = res.em.text.strip()\n",
    "    genre = res.a.text.strip()\n",
    "    date = res.li.find_next_sibling().text.split(\":\")[1]\n",
    "    songs.append(song)\n",
    "    artists.append(artist)\n",
    "    genres.append(genre)\n",
    "    dates.append(date)"
   ]
  },
  {
   "cell_type": "code",
   "execution_count": 12,
   "id": "cdbf9f81",
   "metadata": {},
   "outputs": [],
   "source": [
    "popvortex = pd.DataFrame({'song': songs, 'artist': artists, 'genre': genres, 'release_date':dates})"
   ]
  },
  {
   "cell_type": "code",
   "execution_count": 13,
   "id": "e99df116",
   "metadata": {},
   "outputs": [],
   "source": [
    "popvortex.to_csv('Popvortex100.csv')"
   ]
  },
  {
   "cell_type": "code",
   "execution_count": 14,
   "id": "50232916",
   "metadata": {},
   "outputs": [
    {
     "data": {
      "text/html": [
       "<div>\n",
       "<style scoped>\n",
       "    .dataframe tbody tr th:only-of-type {\n",
       "        vertical-align: middle;\n",
       "    }\n",
       "\n",
       "    .dataframe tbody tr th {\n",
       "        vertical-align: top;\n",
       "    }\n",
       "\n",
       "    .dataframe thead th {\n",
       "        text-align: right;\n",
       "    }\n",
       "</style>\n",
       "<table border=\"1\" class=\"dataframe\">\n",
       "  <thead>\n",
       "    <tr style=\"text-align: right;\">\n",
       "      <th></th>\n",
       "      <th>song</th>\n",
       "      <th>artist</th>\n",
       "      <th>genre</th>\n",
       "      <th>release_date</th>\n",
       "    </tr>\n",
       "  </thead>\n",
       "  <tbody>\n",
       "    <tr>\n",
       "      <th>0</th>\n",
       "      <td>TEXAS HOLD 'EM</td>\n",
       "      <td>Beyoncé</td>\n",
       "      <td>Country</td>\n",
       "      <td>February 11, 2024</td>\n",
       "    </tr>\n",
       "    <tr>\n",
       "      <th>1</th>\n",
       "      <td>Lose Control</td>\n",
       "      <td>Teddy Swims</td>\n",
       "      <td>Pop</td>\n",
       "      <td>June 23, 2023</td>\n",
       "    </tr>\n",
       "    <tr>\n",
       "      <th>2</th>\n",
       "      <td>Beautiful Things</td>\n",
       "      <td>Benson Boone</td>\n",
       "      <td>Pop</td>\n",
       "      <td>January 19, 2024</td>\n",
       "    </tr>\n",
       "    <tr>\n",
       "      <th>3</th>\n",
       "      <td>TEXAS HOLD 'EM</td>\n",
       "      <td>Beyoncé</td>\n",
       "      <td>Country</td>\n",
       "      <td>February 9, 2024</td>\n",
       "    </tr>\n",
       "    <tr>\n",
       "      <th>4</th>\n",
       "      <td>dont let me go</td>\n",
       "      <td>mgk</td>\n",
       "      <td>New Release</td>\n",
       "      <td>Hip-Hop / Rap</td>\n",
       "    </tr>\n",
       "    <tr>\n",
       "      <th>...</th>\n",
       "      <td>...</td>\n",
       "      <td>...</td>\n",
       "      <td>...</td>\n",
       "      <td>...</td>\n",
       "    </tr>\n",
       "    <tr>\n",
       "      <th>95</th>\n",
       "      <td>Is It Over Now? (Taylor's Version) [From The V...</td>\n",
       "      <td>Taylor Swift</td>\n",
       "      <td>Pop</td>\n",
       "      <td>October 27, 2023</td>\n",
       "    </tr>\n",
       "    <tr>\n",
       "      <th>96</th>\n",
       "      <td>Scared To Start</td>\n",
       "      <td>Michael Marcagi</td>\n",
       "      <td>Alternative</td>\n",
       "      <td>January 12, 2024</td>\n",
       "    </tr>\n",
       "    <tr>\n",
       "      <th>97</th>\n",
       "      <td>Karma</td>\n",
       "      <td>Taylor Swift</td>\n",
       "      <td>Pop</td>\n",
       "      <td>October 21, 2022</td>\n",
       "    </tr>\n",
       "    <tr>\n",
       "      <th>98</th>\n",
       "      <td>CARNIVAL</td>\n",
       "      <td>¥$, Kanye West &amp; Ty Dolla $ign</td>\n",
       "      <td>Hip-Hop / Rap</td>\n",
       "      <td>February 8, 2024</td>\n",
       "    </tr>\n",
       "    <tr>\n",
       "      <th>99</th>\n",
       "      <td>Can't Get Enough</td>\n",
       "      <td>Jennifer Lopez</td>\n",
       "      <td>Pop</td>\n",
       "      <td>January 10, 2024</td>\n",
       "    </tr>\n",
       "  </tbody>\n",
       "</table>\n",
       "<p>100 rows × 4 columns</p>\n",
       "</div>"
      ],
      "text/plain": [
       "                                                 song  \\\n",
       "0                                      TEXAS HOLD 'EM   \n",
       "1                                        Lose Control   \n",
       "2                                    Beautiful Things   \n",
       "3                                      TEXAS HOLD 'EM   \n",
       "4                                      dont let me go   \n",
       "..                                                ...   \n",
       "95  Is It Over Now? (Taylor's Version) [From The V...   \n",
       "96                                    Scared To Start   \n",
       "97                                              Karma   \n",
       "98                                           CARNIVAL   \n",
       "99                                   Can't Get Enough   \n",
       "\n",
       "                            artist          genre        release_date  \n",
       "0                          Beyoncé        Country   February 11, 2024  \n",
       "1                      Teddy Swims            Pop       June 23, 2023  \n",
       "2                     Benson Boone            Pop    January 19, 2024  \n",
       "3                          Beyoncé        Country    February 9, 2024  \n",
       "4                              mgk    New Release       Hip-Hop / Rap  \n",
       "..                             ...            ...                 ...  \n",
       "95                    Taylor Swift            Pop    October 27, 2023  \n",
       "96                 Michael Marcagi    Alternative    January 12, 2024  \n",
       "97                    Taylor Swift            Pop    October 21, 2022  \n",
       "98  ¥$, Kanye West & Ty Dolla $ign  Hip-Hop / Rap    February 8, 2024  \n",
       "99                  Jennifer Lopez            Pop    January 10, 2024  \n",
       "\n",
       "[100 rows x 4 columns]"
      ]
     },
     "execution_count": 14,
     "metadata": {},
     "output_type": "execute_result"
    }
   ],
   "source": [
    "popvortex"
   ]
  },
  {
   "cell_type": "code",
   "execution_count": 26,
   "id": "f754e5e8",
   "metadata": {},
   "outputs": [],
   "source": [
    "def getsong(df):\n",
    "    song = input(\"Song:\\n\").lower()\n",
    "    if song in df['song'].str.lower().values:\n",
    "        print('TRUE')\n",
    "        return True\n",
    "    else:\n",
    "        print('FALSE')\n",
    "        return False"
   ]
  },
  {
   "cell_type": "code",
   "execution_count": 29,
   "id": "af070579",
   "metadata": {},
   "outputs": [
    {
     "name": "stdout",
     "output_type": "stream",
     "text": [
      "Song:\n",
      "carnaval\n",
      "FALSE\n"
     ]
    }
   ],
   "source": [
    "a = getsong(hot100)"
   ]
  },
  {
   "cell_type": "code",
   "execution_count": 32,
   "id": "0f7ee226",
   "metadata": {},
   "outputs": [],
   "source": [
    "def recommendation(df1, df2):\n",
    "    def getsong1(song, df):\n",
    "        return song in df['song'].str.lower().values\n",
    "    \n",
    "    user_input = input(\"Song:\\n\").lower()\n",
    "    if getsong1(user_input, df1):\n",
    "        df = df1[df1['song'] != user_input]\n",
    "    elif getsong1(user_input, df2):\n",
    "        df = df2[df2['song'] != user_input]\n",
    "    else:\n",
    "        print(\"Error: The provided song is not found in our database.\")\n",
    "        return\n",
    "    \n",
    "    i = randint(0, len(df) - 1)\n",
    "    rec = df.iloc[i]\n",
    "    song = rec['song']\n",
    "    artist = rec['artist']\n",
    "    print(f\"Recommended Song: {song} by {artist}\")"
   ]
  },
  {
   "cell_type": "code",
   "execution_count": 33,
   "id": "0195c430",
   "metadata": {},
   "outputs": [
    {
     "name": "stdout",
     "output_type": "stream",
     "text": [
      "Song:\n",
      "carnival\n",
      "Recommended Song: Burn It Down by Parker McCollum\n"
     ]
    }
   ],
   "source": [
    "recommendation(hot100,popvortex)"
   ]
  },
  {
   "cell_type": "code",
   "execution_count": 34,
   "id": "2794c5ca",
   "metadata": {},
   "outputs": [],
   "source": [
    "def recommendation2(df1, df2):\n",
    "    user_input = input(\"Song:\\n\").lower()\n",
    "    \n",
    "    df1['song'] = df1['song'].str.lower()\n",
    "    df2['song'] = df2['song'].str.lower()\n",
    "    \n",
    "    if user_input in df1['song'].values:\n",
    "        df = df1[df1['song'] != user_input]\n",
    "    elif user_input in df2['song'].values:\n",
    "        df = df2[df2['song'] != user_input]\n",
    "    else:\n",
    "        print(\"Error: The provided song is not found in our database.\")\n",
    "        return\n",
    "    \n",
    "    if user_input in df1['song'].values and user_input in df2['song'].values:\n",
    "        df = pd.concat([df1, df2], ignore_index=True)\n",
    "    \n",
    "    rec = choice(df.index)\n",
    "    song = df.loc[rec, 'song']\n",
    "    artist = df.loc[rec, 'artist']\n",
    "    print(f\"Recommended Song: {song} by {artist}\")"
   ]
  },
  {
   "cell_type": "code",
   "execution_count": 35,
   "id": "e1e98a54",
   "metadata": {},
   "outputs": [
    {
     "name": "stdout",
     "output_type": "stream",
     "text": [
      "Song:\n",
      "carnival\n",
      "Recommended Song: country's cool again by Lainey Wilson\n"
     ]
    }
   ],
   "source": [
    "recommendation2(hot100,popvortex)"
   ]
  },
  {
   "cell_type": "code",
   "execution_count": null,
   "id": "5bf1f746",
   "metadata": {},
   "outputs": [],
   "source": []
  }
 ],
 "metadata": {
  "kernelspec": {
   "display_name": "Python 3 (ipykernel)",
   "language": "python",
   "name": "python3"
  },
  "language_info": {
   "codemirror_mode": {
    "name": "ipython",
    "version": 3
   },
   "file_extension": ".py",
   "mimetype": "text/x-python",
   "name": "python",
   "nbconvert_exporter": "python",
   "pygments_lexer": "ipython3",
   "version": "3.11.5"
  }
 },
 "nbformat": 4,
 "nbformat_minor": 5
}
