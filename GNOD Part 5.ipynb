{
 "cells": [
  {
   "cell_type": "code",
   "execution_count": 1,
   "id": "09cb9db6",
   "metadata": {},
   "outputs": [],
   "source": [
    "import pandas as pd\n",
    "import numpy as np\n",
    "import matplotlib.pyplot as plt\n",
    "import spotipy\n",
    "\n",
    "%matplotlib inline\n",
    "\n",
    "from pandas import json_normalize\n",
    "from random import randint, choice\n",
    "from spotipy.oauth2 import SpotifyClientCredentials\n",
    "from sklearn.preprocessing import StandardScaler, MinMaxScaler\n",
    "from sklearn.cluster import KMeans\n",
    "from sklearn.metrics import silhouette_score"
   ]
  },
  {
   "cell_type": "code",
   "execution_count": null,
   "id": "42277966",
   "metadata": {},
   "outputs": [],
   "source": [
    "df=pd.read_csv('df_playlists.csv')"
   ]
  },
  {
   "cell_type": "code",
   "execution_count": null,
   "id": "370e1f6d",
   "metadata": {},
   "outputs": [],
   "source": [
    "# Initialize an empty dictionary to store unique combinations of other columns as keys\n",
    "# and corresponding lists of unique names as values\n",
    "names_dict = {}\n",
    "\n",
    "# Iterate over the DataFrame rows\n",
    "for index, row in df.iterrows():\n",
    "    # Create a tuple of values for all columns except 'name'\n",
    "    key = tuple(row.drop('name'))\n",
    "    \n",
    "    # Get the name from the row\n",
    "    name = str(row['name'])  # Convert to string to handle NaN values\n",
    "    \n",
    "    # If the key already exists in the dictionary\n",
    "    if key in names_dict:\n",
    "        # Check if the name is not already in the list associated with the key\n",
    "        if name not in names_dict[key]:\n",
    "            # Append the name to the list of names\n",
    "            names_dict[key].append(name)\n",
    "    # If the key does not exist in the dictionary, create a new entry\n",
    "    else:\n",
    "        names_dict[key] = [name]\n",
    "\n",
    "# Convert the dictionary into a list of dictionaries\n",
    "data = [{'artists': \", \".join(names), **dict(zip(df.columns.drop('name'), key))} for key, names in names_dict.items()]\n",
    "\n",
    "# Convert the list of dictionaries into a DataFrame\n",
    "df = pd.DataFrame(data)\n"
   ]
  },
  {
   "cell_type": "code",
   "execution_count": null,
   "id": "07779b35",
   "metadata": {},
   "outputs": [],
   "source": [
    "audio_df = df.select_dtypes(include=np.number)"
   ]
  },
  {
   "cell_type": "code",
   "execution_count": null,
   "id": "5d1d9a74",
   "metadata": {},
   "outputs": [],
   "source": [
    "audio_df['popularity']=audio_df['popularity']**2"
   ]
  },
  {
   "cell_type": "code",
   "execution_count": null,
   "id": "9be06fbe",
   "metadata": {},
   "outputs": [],
   "source": [
    "scaler = StandardScaler()\n",
    "audio_scaled = scaler.fit_transform(audio_df)\n",
    "pd.DataFrame(audio_scaled, columns=audio_df.columns)"
   ]
  },
  {
   "cell_type": "code",
   "execution_count": null,
   "id": "f7370dfb",
   "metadata": {},
   "outputs": [],
   "source": [
    "K = range(2, 30)\n",
    "\n",
    "inertia = []\n",
    "\n",
    "for k in K:\n",
    "    kmeans = KMeans(n_clusters=k,random_state=15)\n",
    "    kmeans.fit(audio_scaled)\n",
    "    inertia.append(kmeans.inertia_)"
   ]
  },
  {
   "cell_type": "code",
   "execution_count": null,
   "id": "d37d4510",
   "metadata": {},
   "outputs": [],
   "source": [
    "plt.figure(figsize=(16,8))\n",
    "plt.plot(K, inertia, 'bx-')\n",
    "plt.xlabel('k')\n",
    "plt.ylabel('inertia')\n",
    "plt.xticks(np.arange(min(K), max(K)+1, 1.0))\n",
    "plt.title('Elbow Method showing the optimal k')\n",
    "\n",
    "plt.show()"
   ]
  },
  {
   "cell_type": "code",
   "execution_count": null,
   "id": "198a5ee4",
   "metadata": {},
   "outputs": [],
   "source": [
    "K = range(2, 30)\n",
    "silhouette = []\n",
    "\n",
    "for k in K:\n",
    "    kmeans = KMeans(n_clusters=k)\n",
    "    kmeans.fit(audio_scaled)\n",
    "    silhouette.append(silhouette_score(X=audio_scaled, labels=kmeans.predict(audio_scaled)))"
   ]
  },
  {
   "cell_type": "code",
   "execution_count": null,
   "id": "27d816b8",
   "metadata": {},
   "outputs": [],
   "source": [
    "plt.figure(figsize=(16,8))\n",
    "plt.plot(K, silhouette, 'bx-')\n",
    "plt.xlabel('k')\n",
    "plt.ylabel('silhouette score')\n",
    "plt.xticks(np.arange(min(K), max(K)+1, 1.0))\n",
    "plt.title('Silhoutte Score showing the optimal k')\n",
    "\n",
    "plt.show()"
   ]
  },
  {
   "cell_type": "code",
   "execution_count": null,
   "id": "5910bb86",
   "metadata": {},
   "outputs": [],
   "source": [
    "kmeans = KMeans(n_clusters=27, random_state=42)\n",
    "kmeans.fit(audio_scaled)\n",
    "clusters = kmeans.predict(audio_scaled)"
   ]
  },
  {
   "cell_type": "code",
   "execution_count": null,
   "id": "37449869",
   "metadata": {},
   "outputs": [],
   "source": [
    "clusters"
   ]
  },
  {
   "cell_type": "code",
   "execution_count": null,
   "id": "23398800",
   "metadata": {},
   "outputs": [],
   "source": [
    "pd.Series(clusters).value_counts()"
   ]
  },
  {
   "cell_type": "code",
   "execution_count": null,
   "id": "7b6940e5",
   "metadata": {},
   "outputs": [],
   "source": [
    "df"
   ]
  },
  {
   "cell_type": "code",
   "execution_count": null,
   "id": "ef5ff982",
   "metadata": {},
   "outputs": [],
   "source": [
    "df.to_csv('tracks_w_audio.csv',index=False)"
   ]
  },
  {
   "cell_type": "code",
   "execution_count": null,
   "id": "574ad5e2",
   "metadata": {},
   "outputs": [],
   "source": []
  },
  {
   "cell_type": "code",
   "execution_count": null,
   "id": "ba7a95e5",
   "metadata": {},
   "outputs": [],
   "source": []
  },
  {
   "cell_type": "code",
   "execution_count": null,
   "id": "ebceaa5b",
   "metadata": {},
   "outputs": [],
   "source": []
  },
  {
   "cell_type": "code",
   "execution_count": null,
   "id": "8e844932",
   "metadata": {},
   "outputs": [],
   "source": []
  },
  {
   "cell_type": "code",
   "execution_count": null,
   "id": "e00c65be",
   "metadata": {},
   "outputs": [],
   "source": []
  }
 ],
 "metadata": {
  "kernelspec": {
   "display_name": "Python 3 (ipykernel)",
   "language": "python",
   "name": "python3"
  },
  "language_info": {
   "codemirror_mode": {
    "name": "ipython",
    "version": 3
   },
   "file_extension": ".py",
   "mimetype": "text/x-python",
   "name": "python",
   "nbconvert_exporter": "python",
   "pygments_lexer": "ipython3",
   "version": "3.11.5"
  }
 },
 "nbformat": 4,
 "nbformat_minor": 5
}
